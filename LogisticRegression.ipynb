{
  "nbformat": 4,
  "nbformat_minor": 0,
  "metadata": {
    "colab": {
      "provenance": [],
      "authorship_tag": "ABX9TyNzBD7d2b9p+gnaHBHFF7Ys",
      "include_colab_link": true
    },
    "kernelspec": {
      "name": "python3",
      "display_name": "Python 3"
    },
    "language_info": {
      "name": "python"
    }
  },
  "cells": [
    {
      "cell_type": "markdown",
      "metadata": {
        "id": "view-in-github",
        "colab_type": "text"
      },
      "source": [
        "<a href=\"https://colab.research.google.com/github/AazimAnish/S6-Cloud-Computing-Lab/blob/main/LogisticRegression.ipynb\" target=\"_parent\"><img src=\"https://colab.research.google.com/assets/colab-badge.svg\" alt=\"Open In Colab\"/></a>"
      ]
    },
    {
      "cell_type": "markdown",
      "source": [
        "# Logistic Regression"
      ],
      "metadata": {
        "id": "DDxTVi8ILla2"
      }
    },
    {
      "cell_type": "code",
      "execution_count": 19,
      "metadata": {
        "colab": {
          "base_uri": "https://localhost:8080/"
        },
        "id": "gs0JGPrKLYRc",
        "outputId": "c5b2225f-d23b-4d47-fa57-a1a59da7c841"
      },
      "outputs": [
        {
          "output_type": "stream",
          "name": "stdout",
          "text": [
            "Logistic Regression Classification Report: \n",
            "                  precision    recall  f1-score   support\n",
            "\n",
            "    Iris-setosa       1.00      1.00      1.00        10\n",
            "Iris-versicolor       1.00      1.00      1.00         9\n",
            " Iris-virginica       1.00      1.00      1.00        11\n",
            "\n",
            "       accuracy                           1.00        30\n",
            "      macro avg       1.00      1.00      1.00        30\n",
            "   weighted avg       1.00      1.00      1.00        30\n",
            "\n",
            "Logistic Regression Accuracy Score: 1.0\n",
            "Logistic Regression Confusion Matrix: \n",
            " [[10  0  0]\n",
            " [ 0  9  0]\n",
            " [ 0  0 11]]\n"
          ]
        }
      ],
      "source": [
        "import pandas as pd\n",
        "import matplotlib.pyplot as plt\n",
        "from sklearn.model_selection import train_test_split\n",
        "from sklearn.linear_model import LogisticRegression\n",
        "from sklearn.metrics import confusion_matrix, classification_report, accuracy_score\n",
        "\n",
        "# Read the Iris data\n",
        "iris_data = pd.read_csv('Iris.csv')\n",
        "\n",
        "# Select only the desired features\n",
        "X = iris_data.drop('Species', axis=1)\n",
        "\n",
        "# Target variable\n",
        "y = iris_data['Species']\n",
        "\n",
        "# Split the data into training and testing sets\n",
        "X_train, X_test, y_train, y_test = train_test_split(X, y, test_size=0.2, random_state=42)\n",
        "\n",
        "# Create and fit the logistic regression model\n",
        "logistic_regression = LogisticRegression(max_iter=1000)\n",
        "logistic_regression.fit(X_train, y_train)\n",
        "\n",
        "# Make predictions\n",
        "y_pred = logistic_regression.predict(X_test)\n",
        "\n",
        "\n",
        "# Calculate Metrics\n",
        "\n",
        "conf_matrix = confusion_matrix(y_test, y_pred)\n",
        "class_report = classification_report(y_test, y_pred)\n",
        "accuracy = accuracy_score(y_test, y_pred)\n",
        "\n",
        "print(\"Logistic Regression Classification Report: \\n\", class_report)\n",
        "print(\"Logistic Regression Accuracy Score:\", accuracy)\n",
        "print(\"Logistic Regression Confusion Matrix: \\n\", conf_matrix)\n",
        "\n",
        "\n",
        "# Plotting the data and the linear regression line\n",
        "# plt.scatter(X_test['Rooms'], y_test, color='blue', label='Data points')\n",
        "# plt.plot(X_test['Rooms'], y_pred, color='red', label='Linear regression line')\n",
        "# plt.xlabel('Rooms')\n",
        "# plt.ylabel('Price')\n",
        "# plt.title('Linear Regression')\n",
        "# plt.legend()\n",
        "# plt.grid(True)\n",
        "# plt.show()\n"
      ]
    }
  ]
}