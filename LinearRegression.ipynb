{
  "nbformat": 4,
  "nbformat_minor": 0,
  "metadata": {
    "colab": {
      "provenance": [],
      "authorship_tag": "ABX9TyOZ01g5T3Zvzodpj+in9HpL",
      "include_colab_link": true
    },
    "kernelspec": {
      "name": "python3",
      "display_name": "Python 3"
    },
    "language_info": {
      "name": "python"
    }
  },
  "cells": [
    {
      "cell_type": "markdown",
      "metadata": {
        "id": "view-in-github",
        "colab_type": "text"
      },
      "source": [
        "<a href=\"https://colab.research.google.com/github/AazimAnish/S6-Cloud-Computing-Lab/blob/main/LinearRegression.ipynb\" target=\"_parent\"><img src=\"https://colab.research.google.com/assets/colab-badge.svg\" alt=\"Open In Colab\"/></a>"
      ]
    },
    {
      "cell_type": "markdown",
      "source": [
        "# LinearRegression"
      ],
      "metadata": {
        "id": "HHiaSMqcHR5u"
      }
    },
    {
      "cell_type": "code",
      "execution_count": 40,
      "metadata": {
        "id": "PeBJKDK7Zurk",
        "outputId": "75b8a09c-c410-429e-da03-168b0816fa57",
        "colab": {
          "base_uri": "https://localhost:8080/"
        }
      },
      "outputs": [
        {
          "output_type": "stream",
          "name": "stdout",
          "text": [
            "Linear Regression MAE: 332921.09005662217\n"
          ]
        }
      ],
      "source": [
        "import pandas as pd\n",
        "import matplotlib.pyplot as plt\n",
        "from sklearn.model_selection import train_test_split\n",
        "from sklearn.linear_model import LinearRegression\n",
        "from sklearn.metrics import mean_absolute_error\n",
        "\n",
        "# Read the Melbourne housing data\n",
        "melbourne_data = pd.read_csv('MELBOURNE_HOUSE_PRICES_LESS.csv')\n",
        "\n",
        "# Drop rows with NaN values in the target variable 'Price'\n",
        "melbourne_data.dropna(subset=['Price'], inplace=True)\n",
        "\n",
        "# Select only the desired features\n",
        "X = melbourne_data[['Propertycount', 'Distance', 'Rooms']]\n",
        "\n",
        "# Target variable\n",
        "y = melbourne_data['Price']\n",
        "\n",
        "# Split the data into training and testing sets\n",
        "X_train, X_test, y_train, y_test = train_test_split(X, y, test_size=0.2, random_state=42)\n",
        "\n",
        "# Create and fit the linear regression model\n",
        "linear_regressor = LinearRegression()\n",
        "linear_regressor.fit(X_train, y_train)\n",
        "\n",
        "# Make predictions\n",
        "y_pred = linear_regressor.predict(X_test)\n",
        "\n",
        "# Calculate Mean Absolute Error\n",
        "mae = mean_absolute_error(y_test, y_pred)\n",
        "print(\"Linear Regression MAE:\", mae)\n",
        "\n",
        "# Plotting the data and the linear regression line\n",
        "# plt.scatter(X_test['Rooms'], y_test, color='blue', label='Data points')\n",
        "# plt.plot(X_test['Rooms'], y_pred, color='red', label='Linear regression line')\n",
        "# plt.xlabel('Rooms')\n",
        "# plt.ylabel('Price')\n",
        "# plt.title('Linear Regression')\n",
        "# plt.legend()\n",
        "# plt.grid(True)\n",
        "# plt.show()\n"
      ]
    },
    {
      "cell_type": "markdown",
      "source": [
        "# Decision Tree Regressor"
      ],
      "metadata": {
        "id": "dZMGBOVkG9Lh"
      }
    },
    {
      "cell_type": "code",
      "source": [
        "import pandas as pd\n",
        "# import matplotlib.pyplot as plt\n",
        "from sklearn.model_selection import train_test_split\n",
        "from sklearn.tree import DecisionTreeRegressor\n",
        "from sklearn.metrics import mean_absolute_error\n",
        "\n",
        "# Read the Melbourne housing data\n",
        "melbourne_data = pd.read_csv('MELBOURNE_HOUSE_PRICES_LESS.csv')\n",
        "\n",
        "# Drop rows with NaN values in the target variable 'Price'\n",
        "melbourne_data.dropna(subset=['Price'], inplace=True)\n",
        "\n",
        "# Select only the desired features\n",
        "X = melbourne_data[['Propertycount', 'Distance', 'Rooms']]\n",
        "\n",
        "# Target variable\n",
        "y = melbourne_data['Price']\n",
        "\n",
        "# Split the data into training and testing sets\n",
        "X_train, X_test, y_train, y_test = train_test_split(X, y, test_size=0.2, random_state=42)\n",
        "\n",
        "# Create and fit the linear regression model\n",
        "decision_tree_regressor = DecisionTreeRegressor()\n",
        "decision_tree_regressor.fit(X_train, y_train)\n",
        "\n",
        "# Make predictions\n",
        "y_pred = decision_tree_regressor.predict(X_test)\n",
        "\n",
        "# Calculate Mean Absolute Error\n",
        "mae = mean_absolute_error(y_test, y_pred)\n",
        "print(\"Desion Tree Regressor MAE:\", mae)\n",
        "\n",
        "# Plotting the data and the linear regression line\n",
        "# plt.scatter(X_test['Rooms'], y_test, color='blue', label='Data points')\n",
        "# plt.plot(X_test['Rooms'], y_pred, color='red', label='Linear regression line')\n",
        "# plt.xlabel('Rooms')\n",
        "# plt.ylabel('Price')\n",
        "# plt.title('Linear Regression')\n",
        "# plt.legend()\n",
        "# plt.grid(True)\n",
        "# plt.show()\n"
      ],
      "metadata": {
        "id": "ww3rPO5-G6lA"
      },
      "execution_count": null,
      "outputs": []
    }
  ]
}